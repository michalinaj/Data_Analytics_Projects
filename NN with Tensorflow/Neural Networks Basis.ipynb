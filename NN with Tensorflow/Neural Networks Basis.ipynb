{
 "cells": [
  {
   "cell_type": "markdown",
   "metadata": {},
   "source": [
    "# Step 1.Warm Up"
   ]
  },
  {
   "cell_type": "code",
   "execution_count": 1,
   "metadata": {},
   "outputs": [
    {
     "name": "stdout",
     "output_type": "stream",
     "text": [
      "tf.Tensor(b'Hello, TensorFlow!', shape=(), dtype=string)\n"
     ]
    }
   ],
   "source": [
    "import tensorflow as tf\n",
    "hello =tf.constant('Hello, TensorFlow!')\n",
    "print(hello)"
   ]
  },
  {
   "cell_type": "code",
   "execution_count": 2,
   "metadata": {},
   "outputs": [
    {
     "data": {
      "text/plain": [
       "<tf.Tensor: shape=(), dtype=string, numpy=b'Hello, TensorFlow!'>"
      ]
     },
     "execution_count": 2,
     "metadata": {},
     "output_type": "execute_result"
    }
   ],
   "source": [
    "tf.constant(hello)"
   ]
  },
  {
   "cell_type": "markdown",
   "metadata": {},
   "source": [
    "tf.constant() tells the shape and dtype type of the attribute\n"
   ]
  },
  {
   "cell_type": "markdown",
   "metadata": {},
   "source": [
    "# Step2. Implement OCR codein Tensorflow"
   ]
  },
  {
   "cell_type": "code",
   "execution_count": 3,
   "metadata": {},
   "outputs": [],
   "source": [
    "mnist =tf.keras.datasets.mnist"
   ]
  },
  {
   "cell_type": "code",
   "execution_count": 4,
   "metadata": {},
   "outputs": [],
   "source": [
    "(X_train,y_train),(X_test,y_test)=mnist.load_data()"
   ]
  },
  {
   "cell_type": "markdown",
   "metadata": {},
   "source": [
    "# Q1- Use same method that explain in lecture to show first 6 elements of the dataset. You should see:"
   ]
  },
  {
   "cell_type": "code",
   "execution_count": 5,
   "metadata": {},
   "outputs": [],
   "source": [
    "import numpy as np"
   ]
  },
  {
   "cell_type": "code",
   "execution_count": 6,
   "metadata": {},
   "outputs": [
    {
     "data": {
      "image/png": "[encoded data removed]",
      "text/plain": [
       "<Figure size 432x288 with 6 Axes>"
      ]
     },
     "metadata": {
      "needs_background": "light"
     },
     "output_type": "display_data"
    }
   ],
   "source": [
    "import matplotlib.pyplot as plt\n",
    "# plot 6 images as gray scale\n",
    "for i in range(6):\n",
    "\t# define subplot\n",
    "\tplt.subplot(330 + 1 + i)\n",
    "\t# plot raw pixel data\n",
    "\tplt.imshow(X_train[i], cmap=plt.get_cmap('gray'))\n",
    "# show the plot\n",
    "plt.show()"
   ]
  },
  {
   "cell_type": "markdown",
   "metadata": {},
   "source": [
    "# Q2- Normalize the data by dividing the values by 255"
   ]
  },
  {
   "cell_type": "code",
   "execution_count": 7,
   "metadata": {},
   "outputs": [],
   "source": [
    "X_train = X_train / 255\n",
    "X_test = X_test / 255\n"
   ]
  },
  {
   "cell_type": "markdown",
   "metadata": {},
   "source": [
    "Next step is to design the model. For this part we use only one hidden layer with 128 nodes on it."
   ]
  },
  {
   "cell_type": "code",
   "execution_count": 8,
   "metadata": {},
   "outputs": [],
   "source": [
    "model = tf.keras.models.Sequential([\n",
    " tf.keras.layers.Flatten(input_shape=(28, 28)),\n",
    " tf.keras.layers.Dense(128, activation='sigmoid'),\n",
    " tf.keras.layers.Dense(10)\n",
    "])"
   ]
  },
  {
   "cell_type": "markdown",
   "metadata": {},
   "source": [
    "We can run this model on our training data and see the result of the network. For each example\n",
    "the model returns a vector of \"logits\" or \"log-odds\" scores, one for each class.\n"
   ]
  },
  {
   "cell_type": "code",
   "execution_count": 9,
   "metadata": {},
   "outputs": [
    {
     "data": {
      "text/plain": [
       "array([[ 1.5540724 ,  0.5586928 ,  1.0132761 ,  0.38486832, -0.10130762,\n",
       "        -0.19210285, -0.26674607,  0.2142789 , -0.79172564, -0.06454234]],\n",
       "      dtype=float32)"
      ]
     },
     "execution_count": 9,
     "metadata": {},
     "output_type": "execute_result"
    }
   ],
   "source": [
    "predictions= model(X_train[:1]).numpy()\n",
    "predictions"
   ]
  },
  {
   "cell_type": "markdown",
   "metadata": {},
   "source": [
    "Now is the time to define the loss function. We use a cross entropy as the loss function. \n"
   ]
  },
  {
   "cell_type": "code",
   "execution_count": 10,
   "metadata": {},
   "outputs": [],
   "source": [
    "loss_fn = tf.keras.losses.SparseCategoricalCrossentropy(from_logits=True)\n"
   ]
  },
  {
   "cell_type": "markdown",
   "metadata": {},
   "source": [
    "This loss is equal to the negative log probability of the true class: It is zero if the model is sure of the correct class. This untrained model gives probabilities close to random (1/10 for each class), so the initial loss should be close to -tf.log(1/10) ~= 2.3. We can see this by typing:"
   ]
  },
  {
   "cell_type": "code",
   "execution_count": 11,
   "metadata": {},
   "outputs": [
    {
     "data": {
      "text/plain": [
       "2.9538445"
      ]
     },
     "execution_count": 11,
     "metadata": {},
     "output_type": "execute_result"
    }
   ],
   "source": [
    "loss_fn(y_train[:1], predictions).numpy()\n"
   ]
  },
  {
   "cell_type": "markdown",
   "metadata": {},
   "source": [
    "Next step is to design the model and start training"
   ]
  },
  {
   "cell_type": "code",
   "execution_count": 12,
   "metadata": {},
   "outputs": [
    {
     "name": "stdout",
     "output_type": "stream",
     "text": [
      "Epoch 1/5\n",
      "1875/1875 [==============================] - 2s 987us/step - loss: 1.8126 - accuracy: 0.5657\n",
      "Epoch 2/5\n",
      "1875/1875 [==============================] - 2s 990us/step - loss: 0.7659 - accuracy: 0.8435\n",
      "Epoch 3/5\n",
      "1875/1875 [==============================] - 2s 985us/step - loss: 0.5531 - accuracy: 0.8668\n",
      "Epoch 4/5\n",
      "1875/1875 [==============================] - 2s 996us/step - loss: 0.4665 - accuracy: 0.8807\n",
      "Epoch 5/5\n",
      "1875/1875 [==============================] - 2s 1ms/step - loss: 0.4126 - accuracy: 0.8898\n"
     ]
    },
    {
     "data": {
      "text/plain": [
       "<tensorflow.python.keras.callbacks.History at 0x20e6d8277c0>"
      ]
     },
     "execution_count": 12,
     "metadata": {},
     "output_type": "execute_result"
    }
   ],
   "source": [
    "model.compile(optimizer='SGD',\n",
    " loss=loss_fn,\n",
    " metrics=['accuracy'])\n",
    "model.fit(X_train, y_train, epochs=5)"
   ]
  },
  {
   "cell_type": "markdown",
   "metadata": {},
   "source": [
    "You may see slightly different results because we did not initialize the weights and biases the same way."
   ]
  },
  {
   "cell_type": "markdown",
   "metadata": {},
   "source": [
    "# Q3- Add another layer with 128 nodes, increase the epochs to 10 and report the result. How much is the accuracy? (model.evaluate can tell you the accuracy). "
   ]
  },
  {
   "cell_type": "code",
   "execution_count": 13,
   "metadata": {},
   "outputs": [],
   "source": [
    "model2 = tf.keras.models.Sequential([\n",
    " tf.keras.layers.Flatten(input_shape=(28, 28)),\n",
    " tf.keras.layers.Dense(128, activation='sigmoid'),\n",
    " tf.keras.layers.Dense(128, activation='sigmoid'),  #adding one more layer with 128 nodes\n",
    " tf.keras.layers.Dense(10)\n",
    "])"
   ]
  },
  {
   "cell_type": "code",
   "execution_count": 14,
   "metadata": {},
   "outputs": [
    {
     "data": {
      "text/plain": [
       "1.8124843"
      ]
     },
     "execution_count": 14,
     "metadata": {},
     "output_type": "execute_result"
    }
   ],
   "source": [
    "predictions= model2(X_train[:1]).numpy()\n",
    "predictions\n",
    "loss_fn = tf.keras.losses.SparseCategoricalCrossentropy(from_logits=True)\n",
    "loss_fn(y_train[:1], predictions).numpy()\n"
   ]
  },
  {
   "cell_type": "code",
   "execution_count": 15,
   "metadata": {},
   "outputs": [
    {
     "name": "stdout",
     "output_type": "stream",
     "text": [
      "Epoch 1/10\n",
      "1875/1875 [==============================] - 2s 1ms/step - loss: 2.2625 - accuracy: 0.2189\n",
      "Epoch 2/10\n",
      "1875/1875 [==============================] - 2s 1ms/step - loss: 1.8611 - accuracy: 0.5878\n",
      "Epoch 3/10\n",
      "1875/1875 [==============================] - 2s 1ms/step - loss: 1.1640 - accuracy: 0.7197\n",
      "Epoch 4/10\n",
      "1875/1875 [==============================] - ETA: 0s - loss: 0.8284 - accuracy: 0.78 - 2s 1ms/step - loss: 0.8273 - accuracy: 0.7875\n",
      "Epoch 5/10\n",
      "1875/1875 [==============================] - 2s 1ms/step - loss: 0.6497 - accuracy: 0.8274\n",
      "Epoch 6/10\n",
      "1875/1875 [==============================] - 2s 1ms/step - loss: 0.5462 - accuracy: 0.8560\n",
      "Epoch 7/10\n",
      "1875/1875 [==============================] - 2s 1ms/step - loss: 0.4755 - accuracy: 0.8734\n",
      "Epoch 8/10\n",
      "1875/1875 [==============================] - 2s 1ms/step - loss: 0.4366 - accuracy: 0.8824\n",
      "Epoch 9/10\n",
      "1875/1875 [==============================] - 2s 1ms/step - loss: 0.4057 - accuracy: 0.8902\n",
      "Epoch 10/10\n",
      "1875/1875 [==============================] - 2s 1ms/step - loss: 0.3863 - accuracy: 0.8939\n"
     ]
    },
    {
     "data": {
      "text/plain": [
       "<tensorflow.python.keras.callbacks.History at 0x20e6eb33ee0>"
      ]
     },
     "execution_count": 15,
     "metadata": {},
     "output_type": "execute_result"
    }
   ],
   "source": [
    "model2.compile(optimizer='SGD',\n",
    " loss=loss_fn,\n",
    " metrics=['accuracy'])\n",
    "model2.fit(X_train, y_train, epochs=10) #changing epochs to 10"
   ]
  },
  {
   "cell_type": "markdown",
   "metadata": {},
   "source": [
    "Use following command on your training section. This will consider 20% of your data for\n",
    "validation:\n"
   ]
  },
  {
   "cell_type": "code",
   "execution_count": 16,
   "metadata": {},
   "outputs": [
    {
     "name": "stdout",
     "output_type": "stream",
     "text": [
      "Epoch 1/10\n",
      "1500/1500 [==============================] - 3s 2ms/step - loss: 0.3674 - accuracy: 0.8967 - val_loss: 0.3363 - val_accuracy: 0.9070\n",
      "Epoch 2/10\n",
      "1500/1500 [==============================] - 2s 1ms/step - loss: 0.3560 - accuracy: 0.8996 - val_loss: 0.3274 - val_accuracy: 0.9080\n",
      "Epoch 3/10\n",
      "1500/1500 [==============================] - 2s 1ms/step - loss: 0.3462 - accuracy: 0.9021 - val_loss: 0.3198 - val_accuracy: 0.9103\n",
      "Epoch 4/10\n",
      "1500/1500 [==============================] - 2s 1ms/step - loss: 0.3377 - accuracy: 0.9039 - val_loss: 0.3135 - val_accuracy: 0.9127\n",
      "Epoch 5/10\n",
      "1500/1500 [==============================] - 2s 1ms/step - loss: 0.3303 - accuracy: 0.9058 - val_loss: 0.3060 - val_accuracy: 0.9130\n",
      "Epoch 6/10\n",
      "1500/1500 [==============================] - 2s 1ms/step - loss: 0.3234 - accuracy: 0.9073 - val_loss: 0.3008 - val_accuracy: 0.9160\n",
      "Epoch 7/10\n",
      "1500/1500 [==============================] - 2s 1ms/step - loss: 0.3173 - accuracy: 0.9095 - val_loss: 0.2951 - val_accuracy: 0.9171\n",
      "Epoch 8/10\n",
      "1500/1500 [==============================] - 2s 1ms/step - loss: 0.3116 - accuracy: 0.9106 - val_loss: 0.2910 - val_accuracy: 0.9165\n",
      "Epoch 9/10\n",
      "1500/1500 [==============================] - 2s 1ms/step - loss: 0.3064 - accuracy: 0.9119 - val_loss: 0.2860 - val_accuracy: 0.9192\n",
      "Epoch 10/10\n",
      "1500/1500 [==============================] - 2s 1ms/step - loss: 0.3014 - accuracy: 0.9125 - val_loss: 0.2828 - val_accuracy: 0.9202\n"
     ]
    }
   ],
   "source": [
    "hist = model2.fit(X_train, y_train, validation_split=0.2, epochs=10)\n"
   ]
  },
  {
   "cell_type": "code",
   "execution_count": 17,
   "metadata": {},
   "outputs": [
    {
     "data": {
      "image/png": "[encoded data removed]",
      "text/plain": [
       "<Figure size 432x288 with 2 Axes>"
      ]
     },
     "metadata": {
      "needs_background": "light"
     },
     "output_type": "display_data"
    }
   ],
   "source": [
    "#Learning curve\n",
    "plt.subplot(2,1,1)\n",
    "plt.plot(hist.history['accuracy'])\n",
    "plt.plot(hist.history['val_accuracy'])\n",
    "plt.title('model accuracy')\n",
    "plt.ylabel('accuracy')\n",
    "plt.xlabel('epoch')\n",
    "plt.legend(['train', 'test'], loc='lower right')\n",
    "plt.subplot(2,1,2)\n",
    "plt.plot(hist.history['loss'])\n",
    "plt.plot(hist.history['val_loss'])\n",
    "plt.title('model loss')\n",
    "plt.ylabel('loss')\n",
    "plt.xlabel('epoch')\n",
    "plt.legend(['train', 'test'], loc='upper right')\n",
    "plt.show()"
   ]
  },
  {
   "cell_type": "markdown",
   "metadata": {},
   "source": [
    "As we discussed, dropout can help to overcome the overfitting. In following code we add the dropout to the model. "
   ]
  },
  {
   "cell_type": "code",
   "execution_count": 18,
   "metadata": {},
   "outputs": [],
   "source": [
    "model3 = tf.keras.models.Sequential([\n",
    " tf.keras.layers.Flatten(input_shape=(28, 28)),\n",
    " tf.keras.layers.Dense(128, activation='sigmoid'),\n",
    " tf.keras.layers.Dense(128, activation='sigmoid'),\n",
    " tf.keras.layers.Dropout(0.2),\n",
    " tf.keras.layers.Dense(10)])\n"
   ]
  },
  {
   "cell_type": "markdown",
   "metadata": {},
   "source": [
    "# Q4- Now train the model again with adding stochastic gradient descent with batch size of 200. What do you expect to be changed? Speed or accuracy?\n"
   ]
  },
  {
   "cell_type": "code",
   "execution_count": 19,
   "metadata": {},
   "outputs": [
    {
     "data": {
      "text/plain": [
       "2.4894085"
      ]
     },
     "execution_count": 19,
     "metadata": {},
     "output_type": "execute_result"
    }
   ],
   "source": [
    "predictions= model3(X_train[:1]).numpy()\n",
    "predictions\n",
    "loss_fn = tf.keras.losses.SparseCategoricalCrossentropy(from_logits=True)\n",
    "loss_fn(y_train[:1], predictions).numpy()"
   ]
  },
  {
   "cell_type": "code",
   "execution_count": 20,
   "metadata": {},
   "outputs": [
    {
     "name": "stdout",
     "output_type": "stream",
     "text": [
      "Epoch 1/10\n",
      "300/300 [==============================] - 1s 2ms/step - loss: 2.3981 - accuracy: 0.1070\n",
      "Epoch 2/10\n",
      "300/300 [==============================] - 1s 2ms/step - loss: 2.3146 - accuracy: 0.1237\n",
      "Epoch 3/10\n",
      "300/300 [==============================] - 1s 2ms/step - loss: 2.2818 - accuracy: 0.1469\n",
      "Epoch 4/10\n",
      "300/300 [==============================] - 1s 2ms/step - loss: 2.2505 - accuracy: 0.1718\n",
      "Epoch 5/10\n",
      "300/300 [==============================] - 1s 2ms/step - loss: 2.2072 - accuracy: 0.2090\n",
      "Epoch 6/10\n",
      "300/300 [==============================] - 1s 2ms/step - loss: 2.1594 - accuracy: 0.2539\n",
      "Epoch 7/10\n",
      "300/300 [==============================] - 1s 2ms/step - loss: 2.0920 - accuracy: 0.3064\n",
      "Epoch 8/10\n",
      "300/300 [==============================] - 1s 2ms/step - loss: 2.0164 - accuracy: 0.3568\n",
      "Epoch 9/10\n",
      "300/300 [==============================] - 1s 2ms/step - loss: 1.9225 - accuracy: 0.4057\n",
      "Epoch 10/10\n",
      "300/300 [==============================] - 1s 2ms/step - loss: 1.8151 - accuracy: 0.4503\n"
     ]
    },
    {
     "data": {
      "text/plain": [
       "<tensorflow.python.keras.callbacks.History at 0x20e702044f0>"
      ]
     },
     "execution_count": 20,
     "metadata": {},
     "output_type": "execute_result"
    }
   ],
   "source": [
    "model3.compile(optimizer='SGD',\n",
    " loss=loss_fn,\n",
    " metrics=['accuracy'])\n",
    "model3.fit(X_train, y_train, epochs=10, batch_size=200) #adding batchsize to 200"
   ]
  },
  {
   "cell_type": "markdown",
   "metadata": {},
   "source": [
    "Accuracy decreased upto 41%\n"
   ]
  },
  {
   "cell_type": "markdown",
   "metadata": {},
   "source": [
    "# Step3. Structured data\n"
   ]
  },
  {
   "cell_type": "markdown",
   "metadata": {},
   "source": [
    "For this part, we will use a small dataset. In this dataset, the diagnostic, binary-valued variable\n",
    "investigated is whether the patient shows signs of diabetes according to World Health Organization\n",
    "criteria (i.e., if the 2 hour post-load plasma glucose was at least 200 mg/dl at any survey\n",
    "examination or if found during routine medical care). The population lives near Phoenix, Arizona,\n",
    "USA.\n",
    "Attribute Information:\n",
    " 0. Patient ID\n",
    " 1. Number of times pregnant\n",
    " 2. Plasma glucose concentration a 2 hours in an oral glucose tolerance test\n",
    " 3. Diastolic blood pressure (mm Hg)\n",
    " 4. Triceps skin fold thickness (mm)\n",
    " 5. 2-Hour serum insulin (mu U/ml)\n",
    " 6. Body mass index (weight in kg/(height in m)^2)\n",
    " 7. Diabetes pedigree function\n",
    " 8. Age (years)\n",
    " 9. Class variable (0 or 1)\n",
    " "
   ]
  },
  {
   "cell_type": "code",
   "execution_count": 21,
   "metadata": {},
   "outputs": [
    {
     "data": {
      "text/html": [
       "<div>\n",
       "<style scoped>\n",
       "    .dataframe tbody tr th:only-of-type {\n",
       "        vertical-align: middle;\n",
       "    }\n",
       "\n",
       "    .dataframe tbody tr th {\n",
       "        vertical-align: top;\n",
       "    }\n",
       "\n",
       "    .dataframe thead th {\n",
       "        text-align: right;\n",
       "    }\n",
       "</style>\n",
       "<table border=\"1\" class=\"dataframe\">\n",
       "  <thead>\n",
       "    <tr style=\"text-align: right;\">\n",
       "      <th></th>\n",
       "      <th>ID</th>\n",
       "      <th>preg_no</th>\n",
       "      <th>plasma</th>\n",
       "      <th>diastolic</th>\n",
       "      <th>triceps</th>\n",
       "      <th>serum</th>\n",
       "      <th>mass</th>\n",
       "      <th>pedigree</th>\n",
       "      <th>age</th>\n",
       "      <th>diabete</th>\n",
       "    </tr>\n",
       "  </thead>\n",
       "  <tbody>\n",
       "    <tr>\n",
       "      <th>0</th>\n",
       "      <td>1</td>\n",
       "      <td>6</td>\n",
       "      <td>148</td>\n",
       "      <td>72</td>\n",
       "      <td>35</td>\n",
       "      <td>0</td>\n",
       "      <td>33.6</td>\n",
       "      <td>0.627</td>\n",
       "      <td>50</td>\n",
       "      <td>1</td>\n",
       "    </tr>\n",
       "    <tr>\n",
       "      <th>1</th>\n",
       "      <td>2</td>\n",
       "      <td>1</td>\n",
       "      <td>85</td>\n",
       "      <td>66</td>\n",
       "      <td>29</td>\n",
       "      <td>0</td>\n",
       "      <td>26.6</td>\n",
       "      <td>0.351</td>\n",
       "      <td>31</td>\n",
       "      <td>0</td>\n",
       "    </tr>\n",
       "    <tr>\n",
       "      <th>2</th>\n",
       "      <td>3</td>\n",
       "      <td>8</td>\n",
       "      <td>183</td>\n",
       "      <td>64</td>\n",
       "      <td>0</td>\n",
       "      <td>0</td>\n",
       "      <td>23.3</td>\n",
       "      <td>0.672</td>\n",
       "      <td>32</td>\n",
       "      <td>1</td>\n",
       "    </tr>\n",
       "    <tr>\n",
       "      <th>3</th>\n",
       "      <td>4</td>\n",
       "      <td>1</td>\n",
       "      <td>89</td>\n",
       "      <td>66</td>\n",
       "      <td>23</td>\n",
       "      <td>94</td>\n",
       "      <td>28.1</td>\n",
       "      <td>0.167</td>\n",
       "      <td>21</td>\n",
       "      <td>0</td>\n",
       "    </tr>\n",
       "    <tr>\n",
       "      <th>4</th>\n",
       "      <td>5</td>\n",
       "      <td>0</td>\n",
       "      <td>137</td>\n",
       "      <td>40</td>\n",
       "      <td>35</td>\n",
       "      <td>168</td>\n",
       "      <td>43.1</td>\n",
       "      <td>2.288</td>\n",
       "      <td>33</td>\n",
       "      <td>1</td>\n",
       "    </tr>\n",
       "  </tbody>\n",
       "</table>\n",
       "</div>"
      ],
      "text/plain": [
       "   ID  preg_no  plasma  diastolic  triceps  serum  mass  pedigree  age  \\\n",
       "0   1        6     148         72       35      0  33.6     0.627   50   \n",
       "1   2        1      85         66       29      0  26.6     0.351   31   \n",
       "2   3        8     183         64        0      0  23.3     0.672   32   \n",
       "3   4        1      89         66       23     94  28.1     0.167   21   \n",
       "4   5        0     137         40       35    168  43.1     2.288   33   \n",
       "\n",
       "   diabete  \n",
       "0        1  \n",
       "1        0  \n",
       "2        1  \n",
       "3        0  \n",
       "4        1  "
      ]
     },
     "execution_count": 21,
     "metadata": {},
     "output_type": "execute_result"
    }
   ],
   "source": [
    "import pandas as pd\n",
    "file = 'C:/Padhai Ka samaan/535 ML-2/lecture6/pima-indians-diabetes.csv'\n",
    "dataframe = pd.read_csv(file)\n",
    "dataframe.head()"
   ]
  },
  {
   "cell_type": "code",
   "execution_count": 22,
   "metadata": {},
   "outputs": [
    {
     "data": {
      "text/html": [
       "<div>\n",
       "<style scoped>\n",
       "    .dataframe tbody tr th:only-of-type {\n",
       "        vertical-align: middle;\n",
       "    }\n",
       "\n",
       "    .dataframe tbody tr th {\n",
       "        vertical-align: top;\n",
       "    }\n",
       "\n",
       "    .dataframe thead th {\n",
       "        text-align: right;\n",
       "    }\n",
       "</style>\n",
       "<table border=\"1\" class=\"dataframe\">\n",
       "  <thead>\n",
       "    <tr style=\"text-align: right;\">\n",
       "      <th></th>\n",
       "      <th>ID</th>\n",
       "      <th>preg_no</th>\n",
       "      <th>plasma</th>\n",
       "      <th>diastolic</th>\n",
       "      <th>triceps</th>\n",
       "      <th>serum</th>\n",
       "      <th>mass</th>\n",
       "      <th>pedigree</th>\n",
       "      <th>age</th>\n",
       "      <th>diabete</th>\n",
       "    </tr>\n",
       "  </thead>\n",
       "  <tbody>\n",
       "    <tr>\n",
       "      <th>count</th>\n",
       "      <td>768.000000</td>\n",
       "      <td>768.000000</td>\n",
       "      <td>768.000000</td>\n",
       "      <td>768.000000</td>\n",
       "      <td>768.000000</td>\n",
       "      <td>768.000000</td>\n",
       "      <td>768.000000</td>\n",
       "      <td>768.000000</td>\n",
       "      <td>768.000000</td>\n",
       "      <td>768.000000</td>\n",
       "    </tr>\n",
       "    <tr>\n",
       "      <th>mean</th>\n",
       "      <td>384.500000</td>\n",
       "      <td>3.845052</td>\n",
       "      <td>120.894531</td>\n",
       "      <td>69.105469</td>\n",
       "      <td>20.536458</td>\n",
       "      <td>79.799479</td>\n",
       "      <td>31.992578</td>\n",
       "      <td>0.471876</td>\n",
       "      <td>33.240885</td>\n",
       "      <td>0.348958</td>\n",
       "    </tr>\n",
       "    <tr>\n",
       "      <th>std</th>\n",
       "      <td>221.846794</td>\n",
       "      <td>3.369578</td>\n",
       "      <td>31.972618</td>\n",
       "      <td>19.355807</td>\n",
       "      <td>15.952218</td>\n",
       "      <td>115.244002</td>\n",
       "      <td>7.884160</td>\n",
       "      <td>0.331329</td>\n",
       "      <td>11.760232</td>\n",
       "      <td>0.476951</td>\n",
       "    </tr>\n",
       "    <tr>\n",
       "      <th>min</th>\n",
       "      <td>1.000000</td>\n",
       "      <td>0.000000</td>\n",
       "      <td>0.000000</td>\n",
       "      <td>0.000000</td>\n",
       "      <td>0.000000</td>\n",
       "      <td>0.000000</td>\n",
       "      <td>0.000000</td>\n",
       "      <td>0.078000</td>\n",
       "      <td>21.000000</td>\n",
       "      <td>0.000000</td>\n",
       "    </tr>\n",
       "    <tr>\n",
       "      <th>25%</th>\n",
       "      <td>192.750000</td>\n",
       "      <td>1.000000</td>\n",
       "      <td>99.000000</td>\n",
       "      <td>62.000000</td>\n",
       "      <td>0.000000</td>\n",
       "      <td>0.000000</td>\n",
       "      <td>27.300000</td>\n",
       "      <td>0.243750</td>\n",
       "      <td>24.000000</td>\n",
       "      <td>0.000000</td>\n",
       "    </tr>\n",
       "    <tr>\n",
       "      <th>50%</th>\n",
       "      <td>384.500000</td>\n",
       "      <td>3.000000</td>\n",
       "      <td>117.000000</td>\n",
       "      <td>72.000000</td>\n",
       "      <td>23.000000</td>\n",
       "      <td>30.500000</td>\n",
       "      <td>32.000000</td>\n",
       "      <td>0.372500</td>\n",
       "      <td>29.000000</td>\n",
       "      <td>0.000000</td>\n",
       "    </tr>\n",
       "    <tr>\n",
       "      <th>75%</th>\n",
       "      <td>576.250000</td>\n",
       "      <td>6.000000</td>\n",
       "      <td>140.250000</td>\n",
       "      <td>80.000000</td>\n",
       "      <td>32.000000</td>\n",
       "      <td>127.250000</td>\n",
       "      <td>36.600000</td>\n",
       "      <td>0.626250</td>\n",
       "      <td>41.000000</td>\n",
       "      <td>1.000000</td>\n",
       "    </tr>\n",
       "    <tr>\n",
       "      <th>max</th>\n",
       "      <td>768.000000</td>\n",
       "      <td>17.000000</td>\n",
       "      <td>199.000000</td>\n",
       "      <td>122.000000</td>\n",
       "      <td>99.000000</td>\n",
       "      <td>846.000000</td>\n",
       "      <td>67.100000</td>\n",
       "      <td>2.420000</td>\n",
       "      <td>81.000000</td>\n",
       "      <td>1.000000</td>\n",
       "    </tr>\n",
       "  </tbody>\n",
       "</table>\n",
       "</div>"
      ],
      "text/plain": [
       "               ID     preg_no      plasma   diastolic     triceps       serum  \\\n",
       "count  768.000000  768.000000  768.000000  768.000000  768.000000  768.000000   \n",
       "mean   384.500000    3.845052  120.894531   69.105469   20.536458   79.799479   \n",
       "std    221.846794    3.369578   31.972618   19.355807   15.952218  115.244002   \n",
       "min      1.000000    0.000000    0.000000    0.000000    0.000000    0.000000   \n",
       "25%    192.750000    1.000000   99.000000   62.000000    0.000000    0.000000   \n",
       "50%    384.500000    3.000000  117.000000   72.000000   23.000000   30.500000   \n",
       "75%    576.250000    6.000000  140.250000   80.000000   32.000000  127.250000   \n",
       "max    768.000000   17.000000  199.000000  122.000000   99.000000  846.000000   \n",
       "\n",
       "             mass    pedigree         age     diabete  \n",
       "count  768.000000  768.000000  768.000000  768.000000  \n",
       "mean    31.992578    0.471876   33.240885    0.348958  \n",
       "std      7.884160    0.331329   11.760232    0.476951  \n",
       "min      0.000000    0.078000   21.000000    0.000000  \n",
       "25%     27.300000    0.243750   24.000000    0.000000  \n",
       "50%     32.000000    0.372500   29.000000    0.000000  \n",
       "75%     36.600000    0.626250   41.000000    1.000000  \n",
       "max     67.100000    2.420000   81.000000    1.000000  "
      ]
     },
     "execution_count": 22,
     "metadata": {},
     "output_type": "execute_result"
    }
   ],
   "source": [
    "dataframe.describe()"
   ]
  },
  {
   "cell_type": "code",
   "execution_count": 23,
   "metadata": {},
   "outputs": [],
   "source": [
    "#Identifying input & output\n",
    "y = dataframe['diabete']\n",
    "X = dataframe.drop(['ID','diabete'], axis=1)"
   ]
  },
  {
   "cell_type": "code",
   "execution_count": 24,
   "metadata": {},
   "outputs": [],
   "source": [
    "from sklearn.model_selection import train_test_split\n",
    "X_train, X_test, y_train, y_test = train_test_split(X, y, test_size=0.20,\n",
    "random_state=1234)\n"
   ]
  },
  {
   "cell_type": "markdown",
   "metadata": {},
   "source": [
    "# Q5- Design a neural network with 2 hidden layers (hidden layer 1 with 12 nodes and hidden layer 2 with 8 nodes), report the accuracy and draw the learning curves. Apply a dropout to see if you could get any better result. Use ‘adam’ as optimizer. \n"
   ]
  },
  {
   "cell_type": "markdown",
   "metadata": {},
   "source": [
    "We don’t expect a good accuracy from this example. That is one of the issues with NN. We need more data to create an accurate model."
   ]
  },
  {
   "cell_type": "code",
   "execution_count": 38,
   "metadata": {},
   "outputs": [],
   "source": [
    "from sklearn.preprocessing import StandardScaler\n",
    "\n",
    "normalizer = StandardScaler()\n",
    "X_train_norm = normalizer.fit_transform(X_train)\n",
    "X_test_norm = normalizer.transform(X_test)"
   ]
  },
  {
   "cell_type": "code",
   "execution_count": 40,
   "metadata": {},
   "outputs": [],
   "source": [
    "model = tf.keras.models.Sequential([\n",
    " tf.keras.layers.Flatten(input_shape=(8,)), #left with 8 attributes after dropping 2 attributes\n",
    " tf.keras.layers.Dense(12, activation='sigmoid'),\n",
    " tf.keras.layers.Dense(8, activation='sigmoid'),\n",
    " tf.keras.layers.Dense(1)\n",
    "])\n"
   ]
  },
  {
   "cell_type": "code",
   "execution_count": 42,
   "metadata": {},
   "outputs": [
    {
     "name": "stdout",
     "output_type": "stream",
     "text": [
      "Epoch 1/10\n",
      "20/20 [==============================] - 1s 17ms/step - loss: 5.7776 - accuracy: 0.6254 - val_loss: 5.5089 - val_accuracy: 0.6429\n",
      "Epoch 2/10\n",
      "20/20 [==============================] - 0s 3ms/step - loss: 5.1639 - accuracy: 0.6652 - val_loss: 5.5089 - val_accuracy: 0.6429\n",
      "Epoch 3/10\n",
      "20/20 [==============================] - 0s 3ms/step - loss: 4.9518 - accuracy: 0.6790 - val_loss: 5.5089 - val_accuracy: 0.6429\n",
      "Epoch 4/10\n",
      "20/20 [==============================] - 0s 3ms/step - loss: 4.9462 - accuracy: 0.6793 - val_loss: 5.5089 - val_accuracy: 0.6429\n",
      "Epoch 5/10\n",
      "20/20 [==============================] - 0s 3ms/step - loss: 5.8411 - accuracy: 0.6213 - val_loss: 5.5089 - val_accuracy: 0.6429\n",
      "Epoch 6/10\n",
      "20/20 [==============================] - 0s 3ms/step - loss: 5.6935 - accuracy: 0.6309 - val_loss: 5.5089 - val_accuracy: 0.6429\n",
      "Epoch 7/10\n",
      "20/20 [==============================] - 0s 3ms/step - loss: 5.3630 - accuracy: 0.6523 - val_loss: 5.5089 - val_accuracy: 0.6429\n",
      "Epoch 8/10\n",
      "20/20 [==============================] - 0s 3ms/step - loss: 5.1924 - accuracy: 0.6634 - val_loss: 5.5089 - val_accuracy: 0.6429\n",
      "Epoch 9/10\n",
      "20/20 [==============================] - 0s 3ms/step - loss: 5.7027 - accuracy: 0.6303 - val_loss: 5.5089 - val_accuracy: 0.6429\n",
      "Epoch 10/10\n",
      "20/20 [==============================] - 0s 3ms/step - loss: 4.6604 - accuracy: 0.6979 - val_loss: 5.5089 - val_accuracy: 0.6429\n"
     ]
    },
    {
     "data": {
      "text/plain": [
       "<tensorflow.python.keras.callbacks.History at 0x20e730b6940>"
      ]
     },
     "execution_count": 42,
     "metadata": {},
     "output_type": "execute_result"
    }
   ],
   "source": [
    "#Using Adam as optimizer\n",
    "model.compile(loss='binary_crossentropy', optimizer='adam', metrics=['accuracy'])\n",
    "model.fit(X_train_norm,y_train, validation_data=(X_test_norm, y_test), epochs=10)"
   ]
  },
  {
   "cell_type": "code",
   "execution_count": 48,
   "metadata": {},
   "outputs": [
    {
     "name": "stdout",
     "output_type": "stream",
     "text": [
      "Epoch 1/10\n",
      "18/18 [==============================] - 0s 15ms/step - loss: 5.2814 - accuracy: 0.6576 - val_loss: 5.9709 - val_accuracy: 0.6129\n",
      "Epoch 2/10\n",
      "18/18 [==============================] - 0s 10ms/step - loss: 5.2814 - accuracy: 0.6576 - val_loss: 5.9709 - val_accuracy: 0.6129\n",
      "Epoch 3/10\n",
      "18/18 [==============================] - 0s 8ms/step - loss: 5.2814 - accuracy: 0.6576 - val_loss: 5.9709 - val_accuracy: 0.6129\n",
      "Epoch 4/10\n",
      "18/18 [==============================] - 0s 9ms/step - loss: 5.2814 - accuracy: 0.6576 - val_loss: 5.9709 - val_accuracy: 0.6129\n",
      "Epoch 5/10\n",
      "18/18 [==============================] - 0s 7ms/step - loss: 5.2814 - accuracy: 0.6576 - val_loss: 5.9709 - val_accuracy: 0.6129\n",
      "Epoch 6/10\n",
      "18/18 [==============================] - 0s 7ms/step - loss: 5.2814 - accuracy: 0.6576 - val_loss: 5.9709 - val_accuracy: 0.6129\n",
      "Epoch 7/10\n",
      "18/18 [==============================] - 0s 8ms/step - loss: 5.2814 - accuracy: 0.6576 - val_loss: 5.9709 - val_accuracy: 0.6129\n",
      "Epoch 8/10\n",
      "18/18 [==============================] - 0s 7ms/step - loss: 5.2814 - accuracy: 0.6576 - val_loss: 5.9709 - val_accuracy: 0.6129\n",
      "Epoch 9/10\n",
      "18/18 [==============================] - 0s 12ms/step - loss: 5.2814 - accuracy: 0.6576 - val_loss: 5.9709 - val_accuracy: 0.6129\n",
      "Epoch 10/10\n",
      "18/18 [==============================] - 0s 7ms/step - loss: 5.2814 - accuracy: 0.6576 - val_loss: 5.9709 - val_accuracy: 0.6129\n"
     ]
    }
   ],
   "source": [
    "#Using 10% of data\n",
    "hist = model.fit(X_train, y_train, validation_split=0.1, epochs=10)\n"
   ]
  },
  {
   "cell_type": "code",
   "execution_count": 50,
   "metadata": {},
   "outputs": [
    {
     "data": {
      "image/png": "[encoded data removed]",
      "text/plain": [
       "<Figure size 432x288 with 2 Axes>"
      ]
     },
     "metadata": {
      "needs_background": "light"
     },
     "output_type": "display_data"
    }
   ],
   "source": [
    "#Learning curve\n",
    "plt.subplot(2,1,1)\n",
    "plt.plot(hist.history['accuracy'])\n",
    "plt.plot(hist.history['val_accuracy'])\n",
    "plt.title('model accuracy')\n",
    "plt.ylabel('accuracy')\n",
    "plt.xlabel('epoch')\n",
    "plt.legend(['train', 'test'], loc='lower right')\n",
    "plt.subplot(2,1,2)\n",
    "plt.plot(hist.history['loss'])\n",
    "plt.plot(hist.history['val_loss'])\n",
    "plt.title('model loss')\n",
    "plt.ylabel('loss')\n",
    "plt.xlabel('epoch')\n",
    "plt.legend(['train', 'test'], loc='upper right')\n",
    "plt.show()"
   ]
  },
  {
   "cell_type": "code",
   "execution_count": 52,
   "metadata": {},
   "outputs": [],
   "source": [
    "model01 = tf.keras.models.Sequential([\n",
    " tf.keras.layers.Flatten(input_shape=(8,)),\n",
    " tf.keras.layers.Dense(12, activation='sigmoid'),\n",
    " tf.keras.layers.Dense(8, activation='sigmoid'),\n",
    " tf.keras.layers.Dropout(0.1),\n",
    " tf.keras.layers.Dense(1)\n",
    "])"
   ]
  },
  {
   "cell_type": "code",
   "execution_count": 53,
   "metadata": {},
   "outputs": [
    {
     "name": "stdout",
     "output_type": "stream",
     "text": [
      "Epoch 1/10\n",
      "20/20 [==============================] - 2s 23ms/step - loss: 1.3818 - accuracy: 0.6125 - val_loss: 0.6420 - val_accuracy: 0.6494\n",
      "Epoch 2/10\n",
      "20/20 [==============================] - 0s 6ms/step - loss: 0.9773 - accuracy: 0.6340 - val_loss: 0.6309 - val_accuracy: 0.6688\n",
      "Epoch 3/10\n",
      "20/20 [==============================] - 0s 6ms/step - loss: 0.8934 - accuracy: 0.6648 - val_loss: 0.6252 - val_accuracy: 0.6688\n",
      "Epoch 4/10\n",
      "20/20 [==============================] - 0s 6ms/step - loss: 1.2586 - accuracy: 0.6533 - val_loss: 0.6196 - val_accuracy: 0.6688\n",
      "Epoch 5/10\n",
      "20/20 [==============================] - 0s 9ms/step - loss: 1.0885 - accuracy: 0.6085 - val_loss: 0.6211 - val_accuracy: 0.6818\n",
      "Epoch 6/10\n",
      "20/20 [==============================] - 0s 7ms/step - loss: 1.0978 - accuracy: 0.6482 - val_loss: 0.6176 - val_accuracy: 0.6883\n",
      "Epoch 7/10\n",
      "20/20 [==============================] - 0s 11ms/step - loss: 0.9912 - accuracy: 0.6185 - val_loss: 0.6068 - val_accuracy: 0.6753\n",
      "Epoch 8/10\n",
      "20/20 [==============================] - 0s 10ms/step - loss: 0.8214 - accuracy: 0.6379 - val_loss: 0.6034 - val_accuracy: 0.6753\n",
      "Epoch 9/10\n",
      "20/20 [==============================] - 0s 10ms/step - loss: 0.9160 - accuracy: 0.5847 - val_loss: 0.6002 - val_accuracy: 0.6688\n",
      "Epoch 10/10\n",
      "20/20 [==============================] - 0s 7ms/step - loss: 0.7904 - accuracy: 0.6891 - val_loss: 0.5950 - val_accuracy: 0.6818\n"
     ]
    },
    {
     "data": {
      "text/plain": [
       "<tensorflow.python.keras.callbacks.History at 0x20e7476c760>"
      ]
     },
     "execution_count": 53,
     "metadata": {},
     "output_type": "execute_result"
    }
   ],
   "source": [
    "#Using Adam as optimizer\n",
    "model01.compile(loss='binary_crossentropy', optimizer='adam', metrics=['accuracy'])\n",
    "model01.fit(X_train_norm,y_train, validation_data=(X_test_norm, y_test), epochs=10)"
   ]
  }
 ],
 "metadata": {
  "kernelspec": {
   "display_name": "Python 3",
   "language": "python",
   "name": "python3"
  },
  "language_info": {
   "codemirror_mode": {
    "name": "ipython",
    "version": 3
   },
   "file_extension": ".py",
   "mimetype": "text/x-python",
   "name": "python",
   "nbconvert_exporter": "python",
   "pygments_lexer": "ipython3",
   "version": "3.8.3"
  }
 },
 "nbformat": 4,
 "nbformat_minor": 4
}
